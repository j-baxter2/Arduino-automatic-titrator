{
 "cells": [
  {
   "cell_type": "code",
   "execution_count": 1,
   "metadata": {},
   "outputs": [],
   "source": [
    "# Import the necessary libraries\n",
    "import sys\n",
    "import site\n",
    "\n",
    "try:\n",
    "    import serial\n",
    "    import serial.tools.list_ports\n",
    "except:\n",
    "    !{sys.executable} -m pip install --user pyserial\n",
    "    sys.path.append(site.USER_BASE+'/python38/site-packages')\n",
    "    import serial\n",
    "    import serial.tools.list_ports\n",
    "    \n",
    "import time\n",
    "import numpy as np\n",
    "import matplotlib.pyplot as plt\n",
    "import csv"
   ]
  },
  {
   "cell_type": "code",
   "execution_count": 2,
   "metadata": {},
   "outputs": [
    {
     "name": "stdout",
     "output_type": "stream",
     "text": [
      "COM3 Intel(R) Active Management Technology - SOL (COM3)\n",
      "COM4 Arduino Uno (COM4)\n"
     ]
    }
   ],
   "source": [
    "# List the COM ports, and the devices that are connected to them\n",
    "ports = serial.tools.list_ports.comports();\n",
    "\n",
    "for n in ports:\n",
    "    print(n.device, n.description);"
   ]
  },
  {
   "cell_type": "code",
   "execution_count": 3,
   "metadata": {},
   "outputs": [],
   "source": [
    "# Define the ports for communicating with the Arduinos\n",
    "arduinoUno   = serial.Serial(port='COM4', baudrate=  9600, timeout=.1);\n"
   ]
  },
  {
   "cell_type": "code",
   "execution_count": 4,
   "metadata": {},
   "outputs": [
    {
     "name": "stdout",
     "output_type": "stream",
     "text": [
      "Ports closed\n",
      "Ports re-opened\n"
     ]
    }
   ],
   "source": [
    "# Check that we can close the ports (if necessary): this should execute without errors\n",
    "arduinoUno.close()\n",
    "\n",
    "#\n",
    "print('Ports closed')\n",
    "time.sleep(1.0)\n",
    "#\n",
    "# Re-open the ports\n",
    "arduinoUno.open()\n",
    "\n",
    "#\n",
    "print('Ports re-opened')"
   ]
  },
  {
   "cell_type": "code",
   "execution_count": 5,
   "metadata": {},
   "outputs": [],
   "source": [
    "# Define scaling factors for current and magnetic field\n",
    "\n",
    "currentScale = (5.0/1024)/2.4; # Scaling factor to convert A0 signal (from the Nicla) to amps\n",
    "\n",
    "fieldScale = np.array([1300., 1300., 2500.]) / 32767.; # Scaling factors to convert magnetometer readings to micro-tesla\n"
   ]
  },
  {
   "cell_type": "code",
   "execution_count": 7,
   "metadata": {},
   "outputs": [
    {
     "name": "stdout",
     "output_type": "stream",
     "text": [
      "b''\n",
      "Current =  679.5 mA   Magnetic field = ( 5.316, -0.555,  4.044) μT\n",
      "Current =  476.1 mA   Magnetic field = ( 3.571, -0.714,  2.518) μT\n",
      "Current =  238.0 mA   Magnetic field = ( 1.468, -0.595,  0.839) μT\n",
      "Current =  136.3 mA   Magnetic field = (-0.555, -1.111, -1.297) μT\n",
      "Current =   59.0 mA   Magnetic field = (-1.746, -1.230, -3.204) μT\n",
      "b''\n"
     ]
    }
   ],
   "source": [
    "# Test the circuit\n",
    "arduinoUno.flush();\n",
    "arduinoNicla.reset_input_buffer();\n",
    "# Check the Nicla output buffer is empty\n",
    "print(arduinoNicla.readline())\n",
    "\n",
    "npts = 5;\n",
    "currentVals = np.zeros(npts);\n",
    "fieldVals   = np.zeros((npts,3));\n",
    "\n",
    "for n in range(npts):\n",
    "    arduinoUno.write(bytes(\"{f0}\".format(f0=255*(npts-1-n)/(npts-1)), 'utf-8'));\n",
    "    time.sleep(1.5); # Wait for the circuit and communications to settle\n",
    "\n",
    "    arduinoNicla.write(bytes(\"{f0}\".format(f0=0), 'utf-8'));\n",
    "    time.sleep(0.2);\n",
    "    currentVals[n] = float(arduinoNicla.readline())*currentScale;\n",
    "    fieldVals[n,0] = float(arduinoNicla.readline())*fieldScale[0];\n",
    "    fieldVals[n,1] = float(arduinoNicla.readline())*fieldScale[1];\n",
    "    fieldVals[n,2] = float(arduinoNicla.readline())*fieldScale[2];\n",
    "    arduinoNicla.reset_input_buffer();\n",
    "    print(\"Current = {f0:6.1f} mA   \".format(f0=currentVals[n]*1000),end='');\n",
    "    print(\"Magnetic field = ({f0:6.3f}, {f1:6.3f}, {f2:6.3f}) μT\".format(f0=fieldVals[n,0],f1=fieldVals[n,1],f2=fieldVals[n,2]));\n",
    "                     \n",
    "# Turn off the current through the transistor (it can get hot at high current!)\n",
    "arduinoUno.write(bytes(\"{f0}\".format(f0=0), 'utf-8'));\n",
    "# Check the Nicla output buffer is empty\n",
    "print(arduinoNicla.readline())\n"
   ]
  },
  {
   "cell_type": "code",
   "execution_count": 8,
   "metadata": {},
   "outputs": [
    {
     "data": {
      "image/png": "[encoded data removed]",
      "text/plain": [
       "<Figure size 432x288 with 1 Axes>"
      ]
     },
     "metadata": {
      "needs_background": "light"
     },
     "output_type": "display_data"
    }
   ],
   "source": [
    "plt.plot(currentVals,fieldVals[:,0]);\n",
    "plt.plot(currentVals,fieldVals[:,1]);\n",
    "plt.plot(currentVals,fieldVals[:,2]);\n",
    "plt.xlabel('current (mA)');\n",
    "plt.ylabel('field (μT)');\n",
    "plt.legend(labels=['Bx','By','Bz']);"
   ]
  },
  {
   "cell_type": "code",
   "execution_count": 9,
   "metadata": {},
   "outputs": [],
   "source": [
    "# Define a function to read the current and the field\n",
    "\n",
    "def arduinoRead(channel):\n",
    "    \n",
    "    readValue0 = -1;\n",
    "    readValue1 = np.zeros(3);\n",
    "    \n",
    "    channel.write(bytes(\"{f0}\".format(f0=0), 'utf-8'));\n",
    "    \n",
    "    dataRead0 = channel.readline();\n",
    "    dataRead1 = channel.readline();\n",
    "    dataRead2 = channel.readline();\n",
    "    dataRead3 = channel.readline();\n",
    "        \n",
    "    readValue0    = float(dataRead0)*currentScale;\n",
    "    readValue1[0] = float(dataRead1)*fieldScale[0];\n",
    "    readValue1[1] = float(dataRead2)*fieldScale[1];\n",
    "    readValue1[2] = float(dataRead3)*fieldScale[2];\n",
    "        \n",
    "    return readValue0, readValue1;"
   ]
  },
  {
   "cell_type": "code",
   "execution_count": 10,
   "metadata": {},
   "outputs": [
    {
     "name": "stdout",
     "output_type": "stream",
     "text": [
      "0.020345052083333336\n",
      "[-2.38044374 -1.30924406 -2.82296213]\n"
     ]
    }
   ],
   "source": [
    "# Test the function to read data from the Nicla\n",
    "currentData1, fieldData1 = arduinoRead(arduinoNicla);\n",
    "print(currentData1);\n",
    "print(fieldData1);"
   ]
  },
  {
   "cell_type": "code",
   "execution_count": 11,
   "metadata": {},
   "outputs": [
    {
     "name": "stdout",
     "output_type": "stream",
     "text": [
      "b''\n",
      "Collected 100 data points out of 100\n",
      "b''\n"
     ]
    }
   ],
   "source": [
    "# Get some reference data\n",
    "# We read the field values with zero current\n",
    "\n",
    "# First empty the buffers\n",
    "arduinoUno.flush();\n",
    "arduinoNicla.reset_input_buffer();\n",
    "# Check the Nicla output buffer is empty\n",
    "print(arduinoNicla.readline())\n",
    "\n",
    "# Turn the transistor 'off'\n",
    "arduinoUno.write(bytes(\"{f0}\".format(f0=0), 'utf-8'));\n",
    "time.sleep(1.5);\n",
    "\n",
    "# Specify the number of readings to take\n",
    "ndata = 100;\n",
    "# Setup data structures to record the readings\n",
    "currentData = np.zeros((ndata,1));\n",
    "fieldData   = np.zeros((ndata,3));\n",
    "\n",
    "# Take the readings\n",
    "for n in range(ndata):\n",
    "    currentData[n], fieldData[n,:] = arduinoRead(arduinoNicla);    \n",
    "    print(\"Collected {f0} data points out of {f1}\\r\".format(f0=n+1,f1=ndata),end='');\n",
    "    time.sleep(0.01);\n",
    "\n",
    "# Check the Nicla output buffer is empty\n",
    "print();\n",
    "print(arduinoNicla.readline());"
   ]
  },
  {
   "cell_type": "code",
   "execution_count": 12,
   "metadata": {},
   "outputs": [],
   "source": [
    "# Save the data\n",
    "fhandle = open('ReferenceData.csv','w',newline='');\n",
    "writer  = csv.writer(fhandle);\n",
    "#\n",
    "writer.writerow(['current (A)', 'Bx (uT)', 'By (uT)', 'Bz (uT)']);\n",
    "writer.writerows(np.append(currentData, fieldData, axis=1));\n",
    "#\n",
    "fhandle.close();"
   ]
  },
  {
   "cell_type": "code",
   "execution_count": 13,
   "metadata": {},
   "outputs": [],
   "source": [
    "# Check the saved data\n",
    "myData = np.zeros((0,4))\n",
    "\n",
    "with open('ReferenceData.csv', newline='') as fhandle:\n",
    "    reader  = csv.reader(fhandle, delimiter=',');\n",
    "    next(reader, None); # skip the header\n",
    "    #\n",
    "    for row in reader:\n",
    "        myData = np.append(myData,[np.array(np.double(row))],axis=0);\n",
    "\n",
    "#print(myData)"
   ]
  },
  {
   "cell_type": "code",
   "execution_count": 14,
   "metadata": {},
   "outputs": [
    {
     "data": {
      "image/png": "[encoded data removed]",
      "text/plain": [
       "<Figure size 1080x216 with 4 Axes>"
      ]
     },
     "metadata": {
      "needs_background": "light"
     },
     "output_type": "display_data"
    }
   ],
   "source": [
    "fig, axs = plt.subplots(1, 4, sharey = True, figsize=(15, 3));\n",
    "\n",
    "axs[0].hist(currentData);\n",
    "axs[0].set(xlabel='current (mA)',ylabel='count');\n",
    "\n",
    "axs[1].hist(fieldData[:,0]);\n",
    "axs[1].set(xlabel='$B_x$ (μT)');\n",
    "\n",
    "axs[2].hist(fieldData[:,1]);\n",
    "axs[2].set(xlabel='$B_y$ (μT)');\n",
    "\n",
    "axs[3].hist(fieldData[:,2]);\n",
    "axs[3].set(xlabel='$B_z$ (μT)');"
   ]
  },
  {
   "cell_type": "code",
   "execution_count": 15,
   "metadata": {},
   "outputs": [
    {
     "name": "stdout",
     "output_type": "stream",
     "text": [
      "Transistor off:\n",
      "  current =  28.931 ± 13.512 mA\n",
      "  field = (-2.267,-1.313,-2.858) μT\n"
     ]
    }
   ],
   "source": [
    "# Find the mean and the standard deviation (sigma) of the current\n",
    "currentZero = np.mean(currentData);\n",
    "currentZeroStd = np.std(currentData);\n",
    "\n",
    "# Remove any values more than 3*sigma from the mean\n",
    "cut = np.transpose(np.argwhere(currentData > (currentZero + 3*currentZeroStd)))[0];\n",
    "currentDataCut = np.delete(currentData,cut)\n",
    "\n",
    "# Recalculate the mean and standard deviation of the current\n",
    "currentZero = np.mean(currentDataCut);\n",
    "currentZeroStd = np.std(currentDataCut);\n",
    "\n",
    "# Calculate the mean of the field\n",
    "fieldZero = np.mean(fieldData, axis=0);\n",
    "\n",
    "print(\"Transistor off:\");\n",
    "print(\"  current = {f0:7.3f} ±{f1:7.3f} mA\".format(f0=currentZero*1000,f1=currentZeroStd*1000))\n",
    "print(\"  field = ({f0:6.3f},{f1:6.3f},{f2:6.3f}) μT\".format(f0=fieldZero[0],f1=fieldZero[1],f2=fieldZero[2]))"
   ]
  },
  {
   "cell_type": "code",
   "execution_count": 16,
   "metadata": {},
   "outputs": [
    {
     "name": "stdout",
     "output_type": "stream",
     "text": [
      "b''\n",
      "Completed step 10 of 10\r"
     ]
    }
   ],
   "source": [
    "# Now collect data for the magnetic field over a range of currents\n",
    "ndata = 100;\n",
    "nstep = 10;\n",
    "\n",
    "currentVal = np.zeros((nstep,2));\n",
    "fieldVal   = np.zeros((nstep,2));\n",
    "\n",
    "currentData = np.zeros((ndata,1));\n",
    "fieldData   = np.zeros((ndata,3));\n",
    "\n",
    "arduinoUno.flush();\n",
    "arduinoNicla.reset_input_buffer();\n",
    "# Check the Nicla output buffer is empty\n",
    "print(arduinoNicla.readline())\n",
    "\n",
    "for step in range(nstep):\n",
    "    \n",
    "    arduinoUno.write(bytes(\"{f0}\".format(f0=255.0*(nstep-step)/(nstep-1)), 'utf-8'));\n",
    "    \n",
    "    time.sleep(1.2);\n",
    "\n",
    "    for n in range(ndata):\n",
    "        currentData[n], fieldData[n,:] = arduinoRead(arduinoNicla);\n",
    "        fieldData[n,:] = fieldData[n,:] - fieldZero;\n",
    "    \n",
    "    fieldMagnitude = np.sqrt(fieldData[:,0]**2 + \n",
    "                             fieldData[:,1]**2 +\n",
    "                             fieldData[:,2]**2);\n",
    "    \n",
    "    currentVal[step,0] = np.mean( currentData );\n",
    "    fieldVal[step,0]   = np.mean( fieldMagnitude );        \n",
    "\n",
    "    currentVal[step,1] = np.std( currentData );\n",
    "    fieldVal[step,1]   = np.std( fieldMagnitude );\n",
    "    \n",
    "    print(\"Completed step {f0} of {f1}\\r\".format(f0=step+1, f1=nstep), end='')\n",
    "\n",
    "# Turn off the current through the transistor (it can get very hot!)\n",
    "arduinoUno.write(bytes(\"{f0}\".format(f0=0), 'utf-8'));"
   ]
  },
  {
   "cell_type": "code",
   "execution_count": 17,
   "metadata": {},
   "outputs": [],
   "source": [
    "# Save the data\n",
    "with open('MeasurementData.csv','w',newline='') as fhandle:\n",
    "    writer  = csv.writer(fhandle);\n",
    "    #\n",
    "    writer.writerow(['mean current (A)', 'stddev current (A)', 'mean field (uT)', 'stddev field (uT)']);\n",
    "    writer.writerows(np.append(currentVal, fieldVal, axis=1));"
   ]
  },
  {
   "cell_type": "code",
   "execution_count": 18,
   "metadata": {},
   "outputs": [
    {
     "name": "stdout",
     "output_type": "stream",
     "text": [
      "[[0.62091064 0.01584224 9.32710271 0.2275119 ]\n",
      " [0.6568807  0.01440526 9.74246196 0.145826  ]\n",
      " [0.59842936 0.02951368 8.87816907 0.19655934]\n",
      " [0.53582764 0.04498112 7.80968627 0.20648577]\n",
      " [0.46883138 0.05383973 6.72804462 0.19711873]\n",
      " [0.39343262 0.060107   5.50076325 0.18482611]\n",
      " [0.3186849  0.05915725 4.30596459 0.13416523]\n",
      " [0.24184163 0.05209577 3.34616273 0.19557219]\n",
      " [0.16286214 0.04190031 1.98835375 0.18614901]\n",
      " [0.0941569  0.02300355 1.08600922 0.17044132]]\n"
     ]
    }
   ],
   "source": [
    "# Check the saved data\n",
    "myData = np.zeros((0,4))\n",
    "\n",
    "with open('MeasurementData.csv', newline='') as fhandle:\n",
    "    reader  = csv.reader(fhandle, delimiter=',');\n",
    "    next(reader, None); # skip the header\n",
    "    #\n",
    "    for row in reader:\n",
    "        myData = np.append(myData,[np.array(np.double(row))],axis=0);\n",
    "\n",
    "print(myData)"
   ]
  },
  {
   "cell_type": "code",
   "execution_count": 19,
   "metadata": {},
   "outputs": [],
   "source": [
    "# Calculate the standard errors on the data points (field magnitude vs current)\n",
    "currentErr  = currentVal[:,1]/np.sqrt(float(nstep));\n",
    "fieldErr    = fieldVal[:,1]/np.sqrt(float(nstep));"
   ]
  },
  {
   "cell_type": "code",
   "execution_count": 23,
   "metadata": {},
   "outputs": [
    {
     "name": "stdout",
     "output_type": "stream",
     "text": [
      "Gradient (field per unit current) = 15.617 μT/A\n",
      "Intercept (field at zero current) = -0.519 μT\n"
     ]
    }
   ],
   "source": [
    "# Make a linear fit to the data\n",
    "p = np.polyfit(currentVal[:,0], fieldVal[:,0], 1);\n",
    "# Print the [gradient, intercept]\n",
    "print(\"Gradient (field per unit current) = {f0:6.3f} μT/A\".format(f0=p[0]));\n",
    "print(\"Intercept (field at zero current) = {f0:6.3f} μT\".format(f0=p[1]));\n",
    "#print(np.polyval(p,currentVal[:,0]))"
   ]
  },
  {
   "cell_type": "code",
   "execution_count": 24,
   "metadata": {},
   "outputs": [
    {
     "data": {
      "image/png": "[encoded data removed]",
      "text/plain": [
       "<Figure size 576x360 with 1 Axes>"
      ]
     },
     "metadata": {
      "needs_background": "light"
     },
     "output_type": "display_data"
    }
   ],
   "source": [
    "# Plot the data (field magnitude vs current) and the linear fit\n",
    "fig = plt.figure(figsize=(8,5));\n",
    "plt.errorbar(currentVal[:,0],fieldVal[:,0],xerr=currentErr,yerr=fieldErr,fmt='.');\n",
    "plt.plot(currentVal[:,0],np.polyval(p,currentVal[:,0]),'-r');\n",
    "plt.xlabel('current (A)');\n",
    "plt.ylabel('field ($\\mu$T)');"
   ]
  },
  {
   "cell_type": "code",
   "execution_count": 25,
   "metadata": {},
   "outputs": [],
   "source": [
    "fig.savefig('Field_vs_Current.png',dpi=150);"
   ]
  },
  {
   "cell_type": "code",
   "execution_count": null,
   "metadata": {},
   "outputs": [],
   "source": []
  }
 ],
 "metadata": {
  "kernelspec": {
   "display_name": "Python 3 (ipykernel)",
   "language": "python",
   "name": "python3"
  },
  "language_info": {
   "codemirror_mode": {
    "name": "ipython",
    "version": 3
   },
   "file_extension": ".py",
   "mimetype": "text/x-python",
   "name": "python",
   "nbconvert_exporter": "python",
   "pygments_lexer": "ipython3",
   "version": "3.9.12"
  }
 },
 "nbformat": 4,
 "nbformat_minor": 4
}
