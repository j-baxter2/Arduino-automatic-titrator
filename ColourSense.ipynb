{
 "cells": [
  {
   "cell_type": "code",
   "execution_count": 1,
   "metadata": {},
   "outputs": [],
   "source": [
    "# Import the necessary libraries\n",
    "import sys\n",
    "import site\n",
    "\n",
    "try:\n",
    "    import serial\n",
    "    import serial.tools.list_ports\n",
    "except:\n",
    "    !{sys.executable} -m pip install --user pyserial\n",
    "    sys.path.append(site.USER_BASE+'/python38/site-packages')\n",
    "    import serial\n",
    "    import serial.tools.list_ports\n",
    "    \n",
    "import time\n",
    "import numpy as np\n",
    "import matplotlib.pyplot as plt\n",
    "import csv"
   ]
  },
  {
   "cell_type": "code",
   "execution_count": 2,
   "metadata": {},
   "outputs": [
    {
     "name": "stdout",
     "output_type": "stream",
     "text": [
      "COM3 Intel(R) Active Management Technology - SOL (COM3)\n",
      "COM4 Arduino Uno (COM4)\n"
     ]
    }
   ],
   "source": [
    "# List the COM ports, and the devices that are connected to them\n",
    "ports = serial.tools.list_ports.comports();\n",
    "\n",
    "for n in ports:\n",
    "    print(n.device, n.description);"
   ]
  },
  {
   "cell_type": "code",
   "execution_count": 3,
   "metadata": {},
   "outputs": [],
   "source": [
    "# Define the ports for communicating with the Arduinos\n",
    "arduinoUno   = serial.Serial(port='COM4', baudrate=  9600, timeout=.1);\n"
   ]
  },
  {
   "cell_type": "code",
   "execution_count": 4,
   "metadata": {},
   "outputs": [
    {
     "name": "stdout",
     "output_type": "stream",
     "text": [
      "Ports closed\n",
      "Ports re-opened\n"
     ]
    }
   ],
   "source": [
    "# Check that we can close the ports (if necessary): this should execute without errors\n",
    "arduinoUno.close()\n",
    "\n",
    "#\n",
    "print('Ports closed')\n",
    "time.sleep(1.0)\n",
    "#\n",
    "# Re-open the ports\n",
    "arduinoUno.open()\n",
    "\n",
    "#\n",
    "print('Ports re-opened')"
   ]
  },
  {
   "cell_type": "code",
   "execution_count": 96,
   "metadata": {
    "scrolled": false
   },
   "outputs": [
    {
     "data": {
      "image/png": "[encoded data removed]",
      "text/plain": [
       "<Figure size 432x288 with 1 Axes>"
      ]
     },
     "metadata": {
      "needs_background": "light"
     },
     "output_type": "display_data"
    }
   ],
   "source": [
    "# Test the circuit\n",
    "arduinoUno.flush();\n",
    "npts = 100\n",
    "red = []#np.array([])\n",
    "green = []#np.array([])\n",
    "blue = []#np.array([])\n",
    "bin_edges = np.linspace(0,300,301)\n",
    "for n in range(npts):\n",
    "    time.sleep(0.5)\n",
    "    datamessy = str(arduinoUno.readline())[2:-2]\n",
    "    data = datamessy.split(\",\")\n",
    "    red.append(int(data[0]))\n",
    "    green.append(int(data[1]))\n",
    "    blue.append(int(data[2]))\n",
    "    arduinoUno.flush()   \n",
    "    \n",
    "red = np.asarray(red)\n",
    "green = np.asarray(green)\n",
    "blue = np.asarray(blue)\n",
    "\n",
    "total = np.append(green, red)\n",
    "total = np.append(blue, total)\n",
    "min = np.amin(total)\n",
    "max = np.amax(total)\n",
    "\n",
    "plt.xlabel(\"Component Intensity\")\n",
    "plt.ylabel(\"Frequency\")\n",
    "plt.xlim([(min-5), (max+5)])\n",
    "plt.hist(red, bin_edges, color = 'r');\n",
    "plt.hist(green, bin_edges, color = 'g');\n",
    "plt.hist(blue, bin_edges, color = 'b');"
   ]
  }
 ],
 "metadata": {
  "kernelspec": {
   "display_name": "Python 3 (ipykernel)",
   "language": "python",
   "name": "python3"
  },
  "language_info": {
   "codemirror_mode": {
    "name": "ipython",
    "version": 3
   },
   "file_extension": ".py",
   "mimetype": "text/x-python",
   "name": "python",
   "nbconvert_exporter": "python",
   "pygments_lexer": "ipython3",
   "version": "3.9.12"
  }
 },
 "nbformat": 4,
 "nbformat_minor": 4
}
